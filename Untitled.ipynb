{
 "cells": [
  {
   "cell_type": "markdown",
   "id": "3128b5cc",
   "metadata": {},
   "source": [
    "## First we import the necessary libraries"
   ]
  },
  {
   "cell_type": "code",
   "execution_count": 34,
   "id": "02c65cd0",
   "metadata": {},
   "outputs": [],
   "source": [
    "import pandas as pd\n",
    "import seaborn as sns\n"
   ]
  },
  {
   "cell_type": "markdown",
   "id": "a85d28f0",
   "metadata": {},
   "source": [
    "## Then we read in the data. I am using pandas here."
   ]
  },
  {
   "cell_type": "code",
   "execution_count": 35,
   "id": "42c2e551",
   "metadata": {},
   "outputs": [],
   "source": [
    "data = pd.read_csv('data.csv')"
   ]
  },
  {
   "cell_type": "code",
   "execution_count": 36,
   "id": "38ebcc69",
   "metadata": {
    "scrolled": true
   },
   "outputs": [
    {
     "name": "stdout",
     "output_type": "stream",
     "text": [
      "<class 'pandas.core.frame.DataFrame'>\n",
      "RangeIndex: 1000 entries, 0 to 999\n",
      "Data columns (total 16 columns):\n",
      " #   Column             Non-Null Count  Dtype  \n",
      "---  ------             --------------  -----  \n",
      " 0   id                 1000 non-null   object \n",
      " 1   ela                939 non-null    float64\n",
      " 2   financeAmount      939 non-null    float64\n",
      " 3   address1           998 non-null    object \n",
      " 4   address2           862 non-null    object \n",
      " 5   address3           416 non-null    object \n",
      " 6   state              1000 non-null   object \n",
      " 7   city               1000 non-null   object \n",
      " 8   postcode           976 non-null    float64\n",
      " 9   applicationStatus  1000 non-null   object \n",
      " 10  netSalary          1000 non-null   float64\n",
      " 11  loanTenure         1000 non-null   int64  \n",
      " 12  interestRate       1000 non-null   int64  \n",
      " 13  loanApplied        1000 non-null   int64  \n",
      " 14  jobTitle           1000 non-null   object \n",
      " 15  loanReason         1000 non-null   object \n",
      "dtypes: float64(4), int64(3), object(9)\n",
      "memory usage: 125.1+ KB\n"
     ]
    }
   ],
   "source": [
    "data.info()"
   ]
  },
  {
   "cell_type": "markdown",
   "id": "0aecec96",
   "metadata": {},
   "source": [
    "## Seems like the data is not much. There are null values, but let's take  a look at the data first"
   ]
  },
  {
   "cell_type": "code",
   "execution_count": 37,
   "id": "8929b164",
   "metadata": {
    "scrolled": false
   },
   "outputs": [
    {
     "data": {
      "text/html": [
       "<div>\n",
       "<style scoped>\n",
       "    .dataframe tbody tr th:only-of-type {\n",
       "        vertical-align: middle;\n",
       "    }\n",
       "\n",
       "    .dataframe tbody tr th {\n",
       "        vertical-align: top;\n",
       "    }\n",
       "\n",
       "    .dataframe thead th {\n",
       "        text-align: right;\n",
       "    }\n",
       "</style>\n",
       "<table border=\"1\" class=\"dataframe\">\n",
       "  <thead>\n",
       "    <tr style=\"text-align: right;\">\n",
       "      <th></th>\n",
       "      <th>id</th>\n",
       "      <th>ela</th>\n",
       "      <th>financeAmount</th>\n",
       "      <th>address1</th>\n",
       "      <th>address2</th>\n",
       "      <th>address3</th>\n",
       "      <th>state</th>\n",
       "      <th>city</th>\n",
       "      <th>postcode</th>\n",
       "      <th>applicationStatus</th>\n",
       "      <th>netSalary</th>\n",
       "      <th>loanTenure</th>\n",
       "      <th>interestRate</th>\n",
       "      <th>loanApplied</th>\n",
       "      <th>jobTitle</th>\n",
       "      <th>loanReason</th>\n",
       "    </tr>\n",
       "  </thead>\n",
       "  <tbody>\n",
       "    <tr>\n",
       "      <th>0</th>\n",
       "      <td>007205fb-fde6-4d04-9778-5ae2d4b8c9f1</td>\n",
       "      <td>5000.0</td>\n",
       "      <td>5000.0</td>\n",
       "      <td>PT 2344 JLN SRI PERASING</td>\n",
       "      <td>4/2 TMN SRI PERASING JAYA</td>\n",
       "      <td>JABOR</td>\n",
       "      <td>TERENGGANU</td>\n",
       "      <td>CUKAI</td>\n",
       "      <td>24000.0</td>\n",
       "      <td>REJECTED</td>\n",
       "      <td>1900.0</td>\n",
       "      <td>18</td>\n",
       "      <td>18</td>\n",
       "      <td>5000</td>\n",
       "      <td>ADMIN CLERK</td>\n",
       "      <td>DEBTS CONSOLIDATION</td>\n",
       "    </tr>\n",
       "    <tr>\n",
       "      <th>1</th>\n",
       "      <td>007696e0-6d33-4e55-a48a-17797191bdde</td>\n",
       "      <td>0.0</td>\n",
       "      <td>0.0</td>\n",
       "      <td>UNIT A-11-9 DOMAIN 2</td>\n",
       "      <td>LINGKARAN CYBER POINT BARAT</td>\n",
       "      <td>TAMAN NEOCYBER</td>\n",
       "      <td>SELANGOR</td>\n",
       "      <td>CYBERJAYA</td>\n",
       "      <td>63000.0</td>\n",
       "      <td>REJECTED</td>\n",
       "      <td>7260.0</td>\n",
       "      <td>24</td>\n",
       "      <td>18</td>\n",
       "      <td>10000</td>\n",
       "      <td>MANAGER OPERATION</td>\n",
       "      <td>RENOVATION</td>\n",
       "    </tr>\n",
       "    <tr>\n",
       "      <th>2</th>\n",
       "      <td>00ec2449-39df-4018-881c-2185dcaea9ab</td>\n",
       "      <td>49000.0</td>\n",
       "      <td>6000.0</td>\n",
       "      <td>3346JLN PASIR PUTEH,KG TEMBESU LIMBAT</td>\n",
       "      <td>NaN</td>\n",
       "      <td>NaN</td>\n",
       "      <td>KELANTAN</td>\n",
       "      <td>KOTA BHARU</td>\n",
       "      <td>16150.0</td>\n",
       "      <td>REJECTED</td>\n",
       "      <td>4000.0</td>\n",
       "      <td>24</td>\n",
       "      <td>18</td>\n",
       "      <td>6000</td>\n",
       "      <td>SALE ADVISOR</td>\n",
       "      <td>DEBTS CONSOLIDATION</td>\n",
       "    </tr>\n",
       "    <tr>\n",
       "      <th>3</th>\n",
       "      <td>0122f896-fc97-46bf-8408-de443cfa6c63</td>\n",
       "      <td>6000.0</td>\n",
       "      <td>1000.0</td>\n",
       "      <td>NO 1319, JALAN CEMPAKA INDAH 16</td>\n",
       "      <td>TAMAN CEMPAKA INDAH</td>\n",
       "      <td>BUKIT SELAMBAU</td>\n",
       "      <td>KEDAH</td>\n",
       "      <td>SUNGAI PETANI</td>\n",
       "      <td>8010.0</td>\n",
       "      <td>APPROVED</td>\n",
       "      <td>1200.0</td>\n",
       "      <td>12</td>\n",
       "      <td>18</td>\n",
       "      <td>1500</td>\n",
       "      <td>CUSTOMER SERVICE</td>\n",
       "      <td>DEBTS CONSOLIDATION</td>\n",
       "    </tr>\n",
       "    <tr>\n",
       "      <th>4</th>\n",
       "      <td>0131b663-f9c9-40fc-9149-c110e4cc4a22</td>\n",
       "      <td>0.0</td>\n",
       "      <td>0.0</td>\n",
       "      <td>PT 2326</td>\n",
       "      <td>TAMAN ROS SETIA</td>\n",
       "      <td>JUASSEH</td>\n",
       "      <td>NEGERI SEMBILAN</td>\n",
       "      <td>KUALA PILAH</td>\n",
       "      <td>72500.0</td>\n",
       "      <td>REJECTED</td>\n",
       "      <td>3948.0</td>\n",
       "      <td>24</td>\n",
       "      <td>18</td>\n",
       "      <td>5000</td>\n",
       "      <td>CLERK</td>\n",
       "      <td>DEBTS CONSOLIDATION</td>\n",
       "    </tr>\n",
       "    <tr>\n",
       "      <th>5</th>\n",
       "      <td>01a402d8-9f3a-4385-ab58-ee1c6928ce93</td>\n",
       "      <td>40000.0</td>\n",
       "      <td>10000.0</td>\n",
       "      <td>110 LORONG 2 TAMAN BAKAR ARANG</td>\n",
       "      <td>NaN</td>\n",
       "      <td>NaN</td>\n",
       "      <td>KEDAH</td>\n",
       "      <td>SUNGAI PETANI</td>\n",
       "      <td>8000.0</td>\n",
       "      <td>REJECTED</td>\n",
       "      <td>5000.0</td>\n",
       "      <td>24</td>\n",
       "      <td>18</td>\n",
       "      <td>10000</td>\n",
       "      <td>MANAGER</td>\n",
       "      <td>DEBTS CONSOLIDATION</td>\n",
       "    </tr>\n",
       "    <tr>\n",
       "      <th>6</th>\n",
       "      <td>01b2377a-0bfd-453f-a5c9-48f708aeed81</td>\n",
       "      <td>3000.0</td>\n",
       "      <td>3000.0</td>\n",
       "      <td>NO.47 TAMAN SUNGAI TENGAH</td>\n",
       "      <td>LORONG SUNGAI TENGAH 2B1</td>\n",
       "      <td>JALAN SUNGAI  TENGAH MATANG</td>\n",
       "      <td>SARAWAK</td>\n",
       "      <td>KUCHING</td>\n",
       "      <td>93050.0</td>\n",
       "      <td>REJECTED</td>\n",
       "      <td>3754.0</td>\n",
       "      <td>24</td>\n",
       "      <td>18</td>\n",
       "      <td>5000</td>\n",
       "      <td>TEACHER</td>\n",
       "      <td>EDUCATION</td>\n",
       "    </tr>\n",
       "    <tr>\n",
       "      <th>7</th>\n",
       "      <td>01b74664-72a7-43b1-bd51-82c6dc17299a</td>\n",
       "      <td>12000.0</td>\n",
       "      <td>1000.0</td>\n",
       "      <td>KM 7.6 JALAN TEBING TINGGI 1</td>\n",
       "      <td>BUKIT KATIL</td>\n",
       "      <td>MELAKA</td>\n",
       "      <td>MELAKA</td>\n",
       "      <td>AYER KEROH</td>\n",
       "      <td>75450.0</td>\n",
       "      <td>REJECTED</td>\n",
       "      <td>2081.0</td>\n",
       "      <td>12</td>\n",
       "      <td>18</td>\n",
       "      <td>1000</td>\n",
       "      <td>DRIVER</td>\n",
       "      <td>RENOVATION</td>\n",
       "    </tr>\n",
       "    <tr>\n",
       "      <th>8</th>\n",
       "      <td>01ddc10b-5a18-41bb-b5dd-0e0064a9b55f</td>\n",
       "      <td>15000.0</td>\n",
       "      <td>2000.0</td>\n",
       "      <td>LOT 223-D</td>\n",
       "      <td>KAMPUNG JIMAH LAMA</td>\n",
       "      <td>NaN</td>\n",
       "      <td>NEGERI SEMBILAN</td>\n",
       "      <td>SEREMBAN</td>\n",
       "      <td>71950.0</td>\n",
       "      <td>APPROVED</td>\n",
       "      <td>2000.0</td>\n",
       "      <td>18</td>\n",
       "      <td>18</td>\n",
       "      <td>2500</td>\n",
       "      <td>LOGISTICS AND PLANNING ASSISTANT</td>\n",
       "      <td>OTHER USAGE</td>\n",
       "    </tr>\n",
       "    <tr>\n",
       "      <th>9</th>\n",
       "      <td>02076436-bde5-4eef-856e-2042ef045ef9</td>\n",
       "      <td>25000.0</td>\n",
       "      <td>2000.0</td>\n",
       "      <td>LOT 6063D, JALAN SELAMAT,</td>\n",
       "      <td>KAMPUNG SUNGAI RAMAL DALAM,</td>\n",
       "      <td>43000 KAJANG</td>\n",
       "      <td>SELANGOR</td>\n",
       "      <td>KAJANG</td>\n",
       "      <td>43000.0</td>\n",
       "      <td>REJECTED</td>\n",
       "      <td>3400.0</td>\n",
       "      <td>18</td>\n",
       "      <td>18</td>\n",
       "      <td>2000</td>\n",
       "      <td>GROUP CORPORATE COMMUNICATION EXECUTIVE</td>\n",
       "      <td>DEBTS CONSOLIDATION</td>\n",
       "    </tr>\n",
       "  </tbody>\n",
       "</table>\n",
       "</div>"
      ],
      "text/plain": [
       "                                     id      ela  financeAmount  \\\n",
       "0  007205fb-fde6-4d04-9778-5ae2d4b8c9f1   5000.0         5000.0   \n",
       "1  007696e0-6d33-4e55-a48a-17797191bdde      0.0            0.0   \n",
       "2  00ec2449-39df-4018-881c-2185dcaea9ab  49000.0         6000.0   \n",
       "3  0122f896-fc97-46bf-8408-de443cfa6c63   6000.0         1000.0   \n",
       "4  0131b663-f9c9-40fc-9149-c110e4cc4a22      0.0            0.0   \n",
       "5  01a402d8-9f3a-4385-ab58-ee1c6928ce93  40000.0        10000.0   \n",
       "6  01b2377a-0bfd-453f-a5c9-48f708aeed81   3000.0         3000.0   \n",
       "7  01b74664-72a7-43b1-bd51-82c6dc17299a  12000.0         1000.0   \n",
       "8  01ddc10b-5a18-41bb-b5dd-0e0064a9b55f  15000.0         2000.0   \n",
       "9  02076436-bde5-4eef-856e-2042ef045ef9  25000.0         2000.0   \n",
       "\n",
       "                                address1                     address2  \\\n",
       "0               PT 2344 JLN SRI PERASING    4/2 TMN SRI PERASING JAYA   \n",
       "1                   UNIT A-11-9 DOMAIN 2  LINGKARAN CYBER POINT BARAT   \n",
       "2  3346JLN PASIR PUTEH,KG TEMBESU LIMBAT                          NaN   \n",
       "3        NO 1319, JALAN CEMPAKA INDAH 16          TAMAN CEMPAKA INDAH   \n",
       "4                                PT 2326              TAMAN ROS SETIA   \n",
       "5         110 LORONG 2 TAMAN BAKAR ARANG                          NaN   \n",
       "6              NO.47 TAMAN SUNGAI TENGAH     LORONG SUNGAI TENGAH 2B1   \n",
       "7           KM 7.6 JALAN TEBING TINGGI 1                  BUKIT KATIL   \n",
       "8                              LOT 223-D           KAMPUNG JIMAH LAMA   \n",
       "9              LOT 6063D, JALAN SELAMAT,  KAMPUNG SUNGAI RAMAL DALAM,   \n",
       "\n",
       "                      address3            state           city  postcode  \\\n",
       "0                        JABOR       TERENGGANU          CUKAI   24000.0   \n",
       "1               TAMAN NEOCYBER         SELANGOR      CYBERJAYA   63000.0   \n",
       "2                          NaN         KELANTAN     KOTA BHARU   16150.0   \n",
       "3               BUKIT SELAMBAU            KEDAH  SUNGAI PETANI    8010.0   \n",
       "4                      JUASSEH  NEGERI SEMBILAN    KUALA PILAH   72500.0   \n",
       "5                          NaN            KEDAH  SUNGAI PETANI    8000.0   \n",
       "6  JALAN SUNGAI  TENGAH MATANG          SARAWAK        KUCHING   93050.0   \n",
       "7                       MELAKA           MELAKA     AYER KEROH   75450.0   \n",
       "8                          NaN  NEGERI SEMBILAN       SEREMBAN   71950.0   \n",
       "9                 43000 KAJANG         SELANGOR         KAJANG   43000.0   \n",
       "\n",
       "  applicationStatus  netSalary  loanTenure  interestRate  loanApplied  \\\n",
       "0          REJECTED     1900.0          18            18         5000   \n",
       "1          REJECTED     7260.0          24            18        10000   \n",
       "2          REJECTED     4000.0          24            18         6000   \n",
       "3          APPROVED     1200.0          12            18         1500   \n",
       "4          REJECTED     3948.0          24            18         5000   \n",
       "5          REJECTED     5000.0          24            18        10000   \n",
       "6          REJECTED     3754.0          24            18         5000   \n",
       "7          REJECTED     2081.0          12            18         1000   \n",
       "8          APPROVED     2000.0          18            18         2500   \n",
       "9          REJECTED     3400.0          18            18         2000   \n",
       "\n",
       "                                  jobTitle           loanReason  \n",
       "0                              ADMIN CLERK  DEBTS CONSOLIDATION  \n",
       "1                        MANAGER OPERATION           RENOVATION  \n",
       "2                             SALE ADVISOR  DEBTS CONSOLIDATION  \n",
       "3                         CUSTOMER SERVICE  DEBTS CONSOLIDATION  \n",
       "4                                    CLERK  DEBTS CONSOLIDATION  \n",
       "5                                  MANAGER  DEBTS CONSOLIDATION  \n",
       "6                                  TEACHER            EDUCATION  \n",
       "7                                   DRIVER           RENOVATION  \n",
       "8         LOGISTICS AND PLANNING ASSISTANT          OTHER USAGE  \n",
       "9  GROUP CORPORATE COMMUNICATION EXECUTIVE  DEBTS CONSOLIDATION  "
      ]
     },
     "execution_count": 37,
     "metadata": {},
     "output_type": "execute_result"
    }
   ],
   "source": [
    "data.head(10)"
   ]
  },
  {
   "cell_type": "markdown",
   "id": "25b73fdb",
   "metadata": {},
   "source": [
    "## A few things to note here:\n",
    "<br>\n",
    "\n",
    "### 1. The ID column can be dropped immediately.\n",
    "<br>\n",
    "\n",
    "### 2. Address 1&2&3, city and postcode may contribute to someone's loan being approved or rejected (house size, how well developed the particular city/postcode is), but since there are some null values in them, filling them up may be very challenging. One hot encoding them may also make the dataset real messy. Using the state column would suffice, since there are GDP by state data already available everywhere on the net.\n",
    "<br>\n",
    "\n",
    "### 3. jobTitle might also contribute to loan getting approved or rejected where jobs can be categorised as being blue or white collar. However, it probably has to be done manually to accurately categorise the jobs (again, one hot encoding them will be messy). There is already a better column to represent jobTitle, which is netSalary. netSalary straightaway gives the salary that is representing each jobs, with the added bonus it being continuous rather than categorical."
   ]
  },
  {
   "cell_type": "code",
   "execution_count": 38,
   "id": "e45064d4",
   "metadata": {
    "scrolled": true
   },
   "outputs": [],
   "source": [
    "df = data.drop(['id', 'address1', 'address2', 'address3', 'city', 'postcode','jobTitle'], axis = 1)"
   ]
  },
  {
   "cell_type": "code",
   "execution_count": 39,
   "id": "596f4dc4",
   "metadata": {
    "scrolled": true
   },
   "outputs": [
    {
     "data": {
      "text/html": [
       "<div>\n",
       "<style scoped>\n",
       "    .dataframe tbody tr th:only-of-type {\n",
       "        vertical-align: middle;\n",
       "    }\n",
       "\n",
       "    .dataframe tbody tr th {\n",
       "        vertical-align: top;\n",
       "    }\n",
       "\n",
       "    .dataframe thead th {\n",
       "        text-align: right;\n",
       "    }\n",
       "</style>\n",
       "<table border=\"1\" class=\"dataframe\">\n",
       "  <thead>\n",
       "    <tr style=\"text-align: right;\">\n",
       "      <th></th>\n",
       "      <th>ela</th>\n",
       "      <th>financeAmount</th>\n",
       "      <th>state</th>\n",
       "      <th>applicationStatus</th>\n",
       "      <th>netSalary</th>\n",
       "      <th>loanTenure</th>\n",
       "      <th>interestRate</th>\n",
       "      <th>loanApplied</th>\n",
       "      <th>loanReason</th>\n",
       "    </tr>\n",
       "  </thead>\n",
       "  <tbody>\n",
       "    <tr>\n",
       "      <th>0</th>\n",
       "      <td>5000.0</td>\n",
       "      <td>5000.0</td>\n",
       "      <td>TERENGGANU</td>\n",
       "      <td>REJECTED</td>\n",
       "      <td>1900.0</td>\n",
       "      <td>18</td>\n",
       "      <td>18</td>\n",
       "      <td>5000</td>\n",
       "      <td>DEBTS CONSOLIDATION</td>\n",
       "    </tr>\n",
       "    <tr>\n",
       "      <th>1</th>\n",
       "      <td>0.0</td>\n",
       "      <td>0.0</td>\n",
       "      <td>SELANGOR</td>\n",
       "      <td>REJECTED</td>\n",
       "      <td>7260.0</td>\n",
       "      <td>24</td>\n",
       "      <td>18</td>\n",
       "      <td>10000</td>\n",
       "      <td>RENOVATION</td>\n",
       "    </tr>\n",
       "    <tr>\n",
       "      <th>2</th>\n",
       "      <td>49000.0</td>\n",
       "      <td>6000.0</td>\n",
       "      <td>KELANTAN</td>\n",
       "      <td>REJECTED</td>\n",
       "      <td>4000.0</td>\n",
       "      <td>24</td>\n",
       "      <td>18</td>\n",
       "      <td>6000</td>\n",
       "      <td>DEBTS CONSOLIDATION</td>\n",
       "    </tr>\n",
       "    <tr>\n",
       "      <th>3</th>\n",
       "      <td>6000.0</td>\n",
       "      <td>1000.0</td>\n",
       "      <td>KEDAH</td>\n",
       "      <td>APPROVED</td>\n",
       "      <td>1200.0</td>\n",
       "      <td>12</td>\n",
       "      <td>18</td>\n",
       "      <td>1500</td>\n",
       "      <td>DEBTS CONSOLIDATION</td>\n",
       "    </tr>\n",
       "    <tr>\n",
       "      <th>4</th>\n",
       "      <td>0.0</td>\n",
       "      <td>0.0</td>\n",
       "      <td>NEGERI SEMBILAN</td>\n",
       "      <td>REJECTED</td>\n",
       "      <td>3948.0</td>\n",
       "      <td>24</td>\n",
       "      <td>18</td>\n",
       "      <td>5000</td>\n",
       "      <td>DEBTS CONSOLIDATION</td>\n",
       "    </tr>\n",
       "  </tbody>\n",
       "</table>\n",
       "</div>"
      ],
      "text/plain": [
       "       ela  financeAmount            state applicationStatus  netSalary  \\\n",
       "0   5000.0         5000.0       TERENGGANU          REJECTED     1900.0   \n",
       "1      0.0            0.0         SELANGOR          REJECTED     7260.0   \n",
       "2  49000.0         6000.0         KELANTAN          REJECTED     4000.0   \n",
       "3   6000.0         1000.0            KEDAH          APPROVED     1200.0   \n",
       "4      0.0            0.0  NEGERI SEMBILAN          REJECTED     3948.0   \n",
       "\n",
       "   loanTenure  interestRate  loanApplied           loanReason  \n",
       "0          18            18         5000  DEBTS CONSOLIDATION  \n",
       "1          24            18        10000           RENOVATION  \n",
       "2          24            18         6000  DEBTS CONSOLIDATION  \n",
       "3          12            18         1500  DEBTS CONSOLIDATION  \n",
       "4          24            18         5000  DEBTS CONSOLIDATION  "
      ]
     },
     "execution_count": 39,
     "metadata": {},
     "output_type": "execute_result"
    }
   ],
   "source": [
    "df.head()"
   ]
  },
  {
   "cell_type": "markdown",
   "id": "73755199",
   "metadata": {},
   "source": [
    "## Let's see how many values there are in each categorical variables."
   ]
  },
  {
   "cell_type": "code",
   "execution_count": 40,
   "id": "50378fbc",
   "metadata": {
    "scrolled": false
   },
   "outputs": [
    {
     "data": {
      "text/plain": [
       "state\n",
       "SELANGOR           238\n",
       "JOHOR              107\n",
       "KEDAH               99\n",
       "PENANG              93\n",
       "KUALA LUMPUR        86\n",
       "PERAK               83\n",
       "NEGERI SEMBILAN     70\n",
       "MELAKA              65\n",
       "SARAWAK             36\n",
       "PAHANG              33\n",
       "SABAH               24\n",
       "KELANTAN            22\n",
       "PUTRAJAYA           15\n",
       "TERENGGANU          14\n",
       "PERLIS              11\n",
       "LBN                  3\n",
       "KUANTAN              1\n",
       "Name: count, dtype: int64"
      ]
     },
     "execution_count": 40,
     "metadata": {},
     "output_type": "execute_result"
    }
   ],
   "source": [
    "df['state'].value_counts()"
   ]
  },
  {
   "cell_type": "markdown",
   "id": "dbe8aeeb",
   "metadata": {},
   "source": [
    "### 17 states! Whose from the state of Kuantan? lmao\n",
    "<br>\n",
    "\n",
    "### Initially I was thinking about grouping federal territories together with their respective states, however I think that would skew the entire data more towards Selangor. So I am just going to change the lonely Kuantanese's state to Pahang."
   ]
  },
  {
   "cell_type": "code",
   "execution_count": 43,
   "id": "a79a4355",
   "metadata": {},
   "outputs": [],
   "source": [
    "df.loc[df['state'] == 'KUANTAN', 'state'] = 'PAHANG'"
   ]
  },
  {
   "cell_type": "code",
   "execution_count": 44,
   "id": "31e67ce0",
   "metadata": {
    "scrolled": false
   },
   "outputs": [
    {
     "data": {
      "text/plain": [
       "state\n",
       "SELANGOR           238\n",
       "JOHOR              107\n",
       "KEDAH               99\n",
       "PENANG              93\n",
       "KUALA LUMPUR        86\n",
       "PERAK               83\n",
       "NEGERI SEMBILAN     70\n",
       "MELAKA              65\n",
       "SARAWAK             36\n",
       "PAHANG              34\n",
       "SABAH               24\n",
       "KELANTAN            22\n",
       "PUTRAJAYA           15\n",
       "TERENGGANU          14\n",
       "PERLIS              11\n",
       "LBN                  3\n",
       "Name: count, dtype: int64"
      ]
     },
     "execution_count": 44,
     "metadata": {},
     "output_type": "execute_result"
    }
   ],
   "source": [
    "df['state'].value_counts()"
   ]
  },
  {
   "cell_type": "markdown",
   "id": "93119516",
   "metadata": {},
   "source": [
    "### Kuantan guy finally identified as Pahang guy now"
   ]
  },
  {
   "cell_type": "code",
   "execution_count": 28,
   "id": "2bc50b51",
   "metadata": {
    "scrolled": false
   },
   "outputs": [
    {
     "data": {
      "text/plain": [
       "loanReason\n",
       "DEBTS CONSOLIDATION    322\n",
       "OTHER USAGE            206\n",
       "EDUCATION              138\n",
       "EXPAND BUSINESS        131\n",
       "RENOVATION             130\n",
       "MEDICAL EXPENSES        73\n",
       "Name: count, dtype: int64"
      ]
     },
     "execution_count": 28,
     "metadata": {},
     "output_type": "execute_result"
    }
   ],
   "source": [
    "df['loanReason'].value_counts()"
   ]
  },
  {
   "cell_type": "markdown",
   "id": "0f670d34",
   "metadata": {},
   "source": [
    "## loanReason looks good to me"
   ]
  },
  {
   "cell_type": "code",
   "execution_count": 33,
   "id": "13374e46",
   "metadata": {},
   "outputs": [
    {
     "data": {
      "text/plain": [
       "applicationStatus\n",
       "REJECTED    788\n",
       "APPROVED    212\n",
       "Name: count, dtype: int64"
      ]
     },
     "execution_count": 33,
     "metadata": {},
     "output_type": "execute_result"
    }
   ],
   "source": [
    "df['applicationStatus'].value_counts()"
   ]
  },
  {
   "cell_type": "markdown",
   "id": "7d2e8c68",
   "metadata": {},
   "source": [
    "## Here we have an almost 80/20 split between the labels. This dataset has imbalanced classes.\n",
    "\n",
    "## While we're at it let's change the label to 1 and 0.\n",
    "## Approved is 1, Rejected is 0"
   ]
  },
  {
   "cell_type": "code",
   "execution_count": 49,
   "id": "2b3b25c2",
   "metadata": {},
   "outputs": [],
   "source": [
    "df['applicationStatus'] = df['applicationStatus'].map({'APPROVED': 1, 'REJECTED': 0})"
   ]
  },
  {
   "cell_type": "code",
   "execution_count": 50,
   "id": "d2259ad5",
   "metadata": {
    "scrolled": true
   },
   "outputs": [
    {
     "data": {
      "text/plain": [
       "applicationStatus\n",
       "0    788\n",
       "1    212\n",
       "Name: count, dtype: int64"
      ]
     },
     "execution_count": 50,
     "metadata": {},
     "output_type": "execute_result"
    }
   ],
   "source": [
    "df['applicationStatus'].value_counts()"
   ]
  },
  {
   "cell_type": "markdown",
   "id": "5c024a94",
   "metadata": {},
   "source": [
    "## Correlation matrix\n",
    "<br>\n",
    "\n",
    "### Let's see how each variables correlate with each others"
   ]
  },
  {
   "cell_type": "code",
   "execution_count": 55,
   "id": "1d53d89a",
   "metadata": {},
   "outputs": [
    {
     "data": {
      "text/plain": [
       "<Axes: >"
      ]
     },
     "execution_count": 55,
     "metadata": {},
     "output_type": "execute_result"
    },
    {
     "data": {
      "image/png": "[encoded data removed]",
      "text/plain": [
       "<Figure size 640x480 with 2 Axes>"
      ]
     },
     "metadata": {},
     "output_type": "display_data"
    }
   ],
   "source": [
    "sns.heatmap(df.corr(numeric_only = True), cmap = 'YlGnBu', annot = True)\n",
    "\n"
   ]
  },
  {
   "cell_type": "code",
   "execution_count": 62,
   "id": "25e51705",
   "metadata": {},
   "outputs": [
    {
     "name": "stdout",
     "output_type": "stream",
     "text": [
      "Top correlation pairs:\n",
      "netSalary      ela              0.703739\n",
      "loanApplied    financeAmount    0.560159\n",
      "financeAmount  ela              0.493031\n",
      "loanApplied    loanTenure       0.396520\n",
      "netSalary      financeAmount    0.218131\n",
      "dtype: float64\n"
     ]
    }
   ],
   "source": [
    "import numpy as np\n",
    "# Assuming df is your DataFrame\n",
    "correlation_matrix = df.corr(numeric_only = True)\n",
    "\n",
    "# Exclude upper triangular part to avoid repeating pairs\n",
    "lower_triangle_mask = np.tril(np.ones(correlation_matrix.shape), k=-1).astype(bool)\n",
    "correlation_matrix_lower = correlation_matrix.where(lower_triangle_mask)\n",
    "\n",
    "# Use stack() to reshape the lower triangular part of the correlation matrix into a Series\n",
    "correlation_series = correlation_matrix_lower.stack()\n",
    "\n",
    "# Sort the correlations in descending order\n",
    "sorted_correlation_series = correlation_series.sort_values(ascending=False)\n",
    "\n",
    "# Print the top few correlation pairs\n",
    "print(\"Top correlation pairs:\")\n",
    "print(sorted_correlation_series.head())"
   ]
  },
  {
   "cell_type": "markdown",
   "id": "222483db",
   "metadata": {},
   "source": [
    "## Let's dive deeper into the top 2 correlation pairs:\n",
    "<br>\n",
    "\n",
    "### 1. netSalary - ela\n",
    "<br>\n",
    "\n",
    "> ### There is a very high positive correlation here at 0.7.\n",
    "<br>\n",
    "\n",
    "> ### If the person applying has a high net salary, the maximum loan amount the person is able to apply tends to be high as well.\n",
    "\n",
    "### 2. loanApplied - financeAmount\n",
    "<br>\n",
    "\n",
    "> ### There is a high positive correlation here at 0.56.\n",
    "<br>\n",
    "\n",
    "> ### If the person is applying for a high amount of loan, there is a good chance that the approved loan amount will be high as well."
   ]
  },
  {
   "cell_type": "code",
   "execution_count": null,
   "id": "b0b93dcb",
   "metadata": {},
   "outputs": [],
   "source": []
  },
  {
   "cell_type": "code",
   "execution_count": null,
   "id": "02416f06",
   "metadata": {},
   "outputs": [],
   "source": []
  },
  {
   "cell_type": "code",
   "execution_count": null,
   "id": "b3c7725d",
   "metadata": {},
   "outputs": [],
   "source": []
  },
  {
   "cell_type": "code",
   "execution_count": null,
   "id": "d639a4c2",
   "metadata": {},
   "outputs": [],
   "source": []
  },
  {
   "cell_type": "code",
   "execution_count": null,
   "id": "8ec7554d",
   "metadata": {},
   "outputs": [],
   "source": []
  },
  {
   "cell_type": "code",
   "execution_count": null,
   "id": "dc6bec1f",
   "metadata": {},
   "outputs": [],
   "source": []
  },
  {
   "cell_type": "code",
   "execution_count": null,
   "id": "ff372067",
   "metadata": {},
   "outputs": [],
   "source": []
  },
  {
   "cell_type": "code",
   "execution_count": null,
   "id": "121e3486",
   "metadata": {},
   "outputs": [],
   "source": []
  },
  {
   "cell_type": "code",
   "execution_count": null,
   "id": "5e8d7807",
   "metadata": {},
   "outputs": [],
   "source": []
  },
  {
   "cell_type": "code",
   "execution_count": null,
   "id": "f07f2b31",
   "metadata": {},
   "outputs": [],
   "source": []
  },
  {
   "cell_type": "code",
   "execution_count": null,
   "id": "2a77e461",
   "metadata": {},
   "outputs": [],
   "source": []
  }
 ],
 "metadata": {
  "kernelspec": {
   "display_name": "Python 3 (ipykernel)",
   "language": "python",
   "name": "python3"
  },
  "language_info": {
   "codemirror_mode": {
    "name": "ipython",
    "version": 3
   },
   "file_extension": ".py",
   "mimetype": "text/x-python",
   "name": "python",
   "nbconvert_exporter": "python",
   "pygments_lexer": "ipython3",
   "version": "3.11.5"
  }
 },
 "nbformat": 4,
 "nbformat_minor": 5
}
